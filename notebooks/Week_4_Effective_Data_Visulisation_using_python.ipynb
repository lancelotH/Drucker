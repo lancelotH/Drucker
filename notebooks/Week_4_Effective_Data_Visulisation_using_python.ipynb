{
  "cells": [
    {
      "cell_type": "markdown",
      "metadata": {
        "id": "Rj6xniL_WZcS"
      },
      "source": [
        "<img style=\"float: right;margin:0 10px 10px 0\" src=\"https://github.com/FrancescaPontin/GEOG5990M/blob/main/notebooks/screenshots/cdrc_logo.png?raw=1\" width=180>\n",
        "\n",
        "# GEOG5990M Programming for Geographical Information Analysis: Core Skills  <a class=\"tocSkip\">\n",
        "\n",
        "\n",
        "* #### Contact: F.L.Pontin@leeds.ac.uk <a class=\"tocSkip\">"
      ]
    },
    {
      "cell_type": "markdown",
      "metadata": {
        "id": "voSlkiR0WZcT"
      },
      "source": [
        "\n",
        "\n",
        "<b>Data Visualisation.</b>\n",
        "- Why visualise data?\n",
        "- Different visualisations\n",
        "- Matplotlib and Seaborn\n",
        "- Grammar of graphics\n",
        "- Editing graphics\n"
      ]
    },
    {
      "cell_type": "markdown",
      "metadata": {
        "id": "ZS-Ra2tBWZcT"
      },
      "source": [
        "### Let's import the packages we need for today's exercise and read in the files we are going to visualise and analyse\n",
        "\n",
        "Typically when you are writting a notebook or py file you import all the apckages you need at the start this\n",
        "- A) means someone can quickly see the packages you have used to do your analysis\n",
        "- B) you can insure all the packages you need are installed before you get coding."
      ]
    },
    {
      "cell_type": "markdown",
      "metadata": {
        "id": "SwVLgBTBWZcT"
      },
      "source": [
        "#### Import packages"
      ]
    },
    {
      "cell_type": "code",
      "execution_count": 1,
      "metadata": {
        "id": "l3KiVq-AWZcT"
      },
      "outputs": [],
      "source": [
        "# Import required packages\n",
        "\n",
        "# for visualisation\n",
        "import seaborn as sns\n",
        "import matplotlib.pyplot as plt\n",
        "\n",
        "# for data manipulation\n",
        "import pandas as pd\n",
        "import numpy as np\n"
      ]
    },
    {
      "cell_type": "code",
      "execution_count": 3,
      "metadata": {
        "id": "3-2dyItqWZcU"
      },
      "outputs": [],
      "source": [
        "import warnings\n",
        "warnings.filterwarnings('ignore')"
      ]
    },
    {
      "cell_type": "markdown",
      "metadata": {
        "id": "jSSqfzIhWZcU"
      },
      "source": [
        "#### Load in data"
      ]
    },
    {
      "cell_type": "code",
      "execution_count": null,
      "metadata": {
        "id": "kpzt8eV-WZcU"
      },
      "outputs": [],
      "source": [
        "# load the titanic example dataset and save it as a dataframe named titanic\n",
        "titanic = sns.load_dataset('titanic')\n",
        "\n"
      ]
    },
    {
      "cell_type": "markdown",
      "metadata": {
        "id": "Q0TVhTDMWZcU"
      },
      "source": [
        "<div class=\"alert alert-block alert-info\">\n",
        "    \n",
        "<I> A Quick description of the titanic data variables:\n",
        "- <b>survival:</b>    If the passenger survived\n",
        "- <b>PassengerId:</b> Unique Id of a passenger.\n",
        "- <b>pclass:</b>    Ticket class\n",
        "- <b>sex:</b>   Sex     \n",
        "- <b>Age:</b>   Age in years     \n",
        "- <b>sibsp:</b>    Number of siblings / spouses aboard the Titanic     \n",
        "- <b>parch:</b>   Number of parents / children aboard the Titanic     \n",
        "- <b>ticket:</b>   Ticket number     \n",
        "- <b>fare:</b>   Cost of the passenger fare     \n",
        "- <b>cabin:</b>  Cabin number     \n",
        "- <b>embarked:</b>    Port of Embarkation</I>"
      ]
    },
    {
      "cell_type": "markdown",
      "metadata": {
        "id": "vIW0gHKPWZcU"
      },
      "source": [
        "# Visualising data\n",
        "\n",
        "- <font color =grey> Why visualise data? </font>\n",
        "- Different visualisations\n",
        "- Matplotlib and Seaborn\n",
        "- <font color =grey> Grammar of graphics </font>\n",
        "- Editing graphics\n",
        "\n",
        "### <i> Often the best way to understand the data you have is to visualise it <a class=\"tocSkip\"> </i>"
      ]
    },
    {
      "cell_type": "markdown",
      "metadata": {
        "id": "pHzOJ2j6WZcU"
      },
      "source": [
        "In this exercise we are going to be introducing you to a lot of different data visualisations. For each data visulasiaiton function we have sign-posted you to the documentation. Once you have run through the data visualsiation code go back and look at the other editable parameteres in the documentation and try adding them to your visualisations. Have a think about whether changing one of these might improve the clarity or interpretability of your data visualisation."
      ]
    },
    {
      "cell_type": "markdown",
      "metadata": {
        "id": "Jf8TVqJ7WZcU"
      },
      "source": [
        "## Histograms\n",
        "https://matplotlib.org/stable/api/_as_gen/matplotlib.pyplot.hist.html\n",
        "\n",
        "*'A histogram is a graph that shows the frequency of numerical data using rectangles. The height of a rectangle (the vertical axis) represents the distribution frequency of a variable (the amount, or how often that variable appears).'*\n",
        "\n",
        "You could plot two histograms to see the distribution of data before and after cleaning."
      ]
    },
    {
      "cell_type": "markdown",
      "metadata": {
        "id": "Judad7u5WZcU"
      },
      "source": [
        "<br>The simplest way to do this is using the matplotlib <code>.hist()</code> function.\n",
        "<br> <font color='orchid'> <b>Run the two cells below</b></font>"
      ]
    },
    {
      "cell_type": "code",
      "execution_count": null,
      "metadata": {
        "id": "1moKW1S8WZcV"
      },
      "outputs": [],
      "source": [
        "titanic['age'].hist()"
      ]
    },
    {
      "cell_type": "code",
      "execution_count": null,
      "metadata": {
        "scrolled": true,
        "id": "hR_WLw1TWZcV"
      },
      "outputs": [],
      "source": [
        "titanic['fare'].hist()"
      ]
    },
    {
      "cell_type": "markdown",
      "metadata": {
        "id": "s4P9jKsQWZcV"
      },
      "source": [
        "Use <code>bins =</code> within the <code>.hist()</code> function. Bins defines the number of equal-width bins in the range (the number of bars in the histogram)"
      ]
    },
    {
      "cell_type": "code",
      "execution_count": null,
      "metadata": {
        "id": "INZ4N4eVWZcV"
      },
      "outputs": [],
      "source": [
        "# copy the code above and experiment with the number of bins\n",
        "\n"
      ]
    },
    {
      "cell_type": "markdown",
      "metadata": {
        "id": "rIMb1HTeWZcV"
      },
      "source": [
        "<div class=\"alert alert-block alert-info\">\n",
        "<b>Tip:</b> <br>The <code>;</code> is used after coding a visualisation to supress the text output that is also created. <br> When you next create a visualisation try running the code with and without the <code>;</code> . <br>\n",
        "    \n",
        "<code>;</code> can also be used to supress other outputs. E.g. Whilst <code>titanic.head()</code> shows you the first 5 lines of the titanic dataframe. <code>titanic.head();</code> would not produce an output.\n",
        "</div>"
      ]
    },
    {
      "cell_type": "markdown",
      "metadata": {
        "id": "DHSINQk9WZcV"
      },
      "source": [
        "## Scatterplots and correlations\n",
        "\n",
        "https://matplotlib.org/stable/api/_as_gen/matplotlib.pyplot.scatter.html"
      ]
    },
    {
      "cell_type": "markdown",
      "metadata": {
        "id": "khPa9MwEWZcV"
      },
      "source": [
        "Use the matplotlib pyplot <code>.scatter()</code> function to create a scatter plot.\n",
        "<br>Whilst a histogram is 1 dimensional (takes one set of data), scatter plots plot two lots of data (often columns) against each other.\n",
        "\n",
        "We will use the scatter plot to see if there is a correlation between age and fare, specifying age as the x-axis variable and price as the y-axis variable\n",
        "<br> <font color='orchid'> <b>Run the code below</b></font>"
      ]
    },
    {
      "cell_type": "code",
      "execution_count": null,
      "metadata": {
        "id": "eTUHdOsNWZcV"
      },
      "outputs": [],
      "source": [
        "titanic.plot.scatter(x='age',y='fare');"
      ]
    },
    {
      "cell_type": "markdown",
      "metadata": {
        "id": "KGUHprt6WZcV"
      },
      "source": [
        "## Customising graphs\n",
        "\n",
        "There are lots of different ways to edit matplotlib graphs to get them looking how you want\n",
        "\n",
        "- <code>s=</code>: scalar i.e. point size\n",
        "- <code>c=</code>: colour of the points, see the list of matplotlib colours below. colours need to be in speech marks e.g.<code>\"red\"</code>\n",
        "<img src= \"../screenshots/colors.png\" width =700 >\n",
        "- <code>alpha=</code>: How transparent the point is, 0-1 (completely transparent- solid colour)\n",
        "- <code>marker=</code>: Defines how the point looks, there are a few examples below and more [here](https://matplotlib.org/3.1.1/api/markers_api.html#module-matplotlib.markers)\n",
        "<img src= \"../screenshots/marker.png\" width =500 >\n",
        "\n",
        "<br> <font color='orchid'> <b>Play around with the code below, changing different elements</b></font>"
      ]
    },
    {
      "cell_type": "code",
      "execution_count": null,
      "metadata": {
        "id": "Zv-bE9NCWZcV"
      },
      "outputs": [],
      "source": [
        "titanic.plot.scatter(x='age',y='fare', s=20, c='green', alpha=0.3);"
      ]
    },
    {
      "cell_type": "markdown",
      "metadata": {
        "id": "Bvh402wlWZcV"
      },
      "source": [
        "<br> <font color='orchid'> <b>Plot your own scatter plot of age against fare with pink triangular points, scalar = 75 and make the points semi-transparent</b></font>"
      ]
    },
    {
      "cell_type": "code",
      "execution_count": null,
      "metadata": {
        "id": "c622rp4LWZcV"
      },
      "outputs": [],
      "source": [
        "# scatter plot age v. fare, semi-transparent pink triangular points, scalar = 75,\n"
      ]
    },
    {
      "cell_type": "markdown",
      "metadata": {
        "id": "uEwfASP1WZcV"
      },
      "source": [
        "## Visulisations using Seaborn\n",
        "The seaborn package can also be used to visulise data. Often producing cleaner and clearer looking plots along with statistical graphics. <br>\n",
        "\n",
        "https://seaborn.pydata.org/generated/seaborn.displot.html <br>\n",
        "\n",
        "### Plotting data distribution\n",
        "<code>sns.displot()</code> is similar to <code>.hist() </code> but from the seaborn package\n",
        "<br><font color= \"orchid\"><b> Run the code bellow </font>"
      ]
    },
    {
      "cell_type": "code",
      "execution_count": null,
      "metadata": {
        "id": "KQ-OZjgsWZcV"
      },
      "outputs": [],
      "source": [
        "sns.displot(titanic['age'].dropna(), rug=True)"
      ]
    },
    {
      "cell_type": "markdown",
      "metadata": {
        "id": "SUs_xNn-WZcV"
      },
      "source": [
        "Try adding <code>kind = 'hist'</code>,<code>kind = 'hist'</code> and <code>kind = 'ecdf'</code> in turn to the <code>sns.displot()</code> function"
      ]
    },
    {
      "cell_type": "code",
      "execution_count": null,
      "metadata": {
        "id": "BcjHQxmkWZcV"
      },
      "outputs": [],
      "source": [
        "# uncomment the code and experiment with the kind=\n",
        "\n",
        "#sns.displot(titanic['age'].dropna(), kind=)"
      ]
    },
    {
      "cell_type": "markdown",
      "metadata": {
        "id": "c58wlAH7WZcV"
      },
      "source": [
        "### Plotting bivariate (numeric) data - joint plot\n",
        "\n",
        "<code>sns.jointplot()</code> is used to plot two variable with seaborn. Notice it also produces a histogram of the variable distributions of each axis.\n",
        "\n",
        "Like with matplotlib elements of the graph are editable\n",
        "\n",
        "<code>kind=</code> : Can be “scatter” (default) | “reg” | “resid” | “kde” | “hex”\n",
        "\n",
        "#### Scatter plots\n",
        "\n",
        "Creates a scatter plot with histograms for each variable on the x (age) and y (fare) axis respectively\n",
        "<br><font color= \"orchid\"><b> Run the code bellow and then try changing the kind of graph plotted </font>"
      ]
    },
    {
      "cell_type": "code",
      "execution_count": null,
      "metadata": {
        "id": "njik4ztaWZcW"
      },
      "outputs": [],
      "source": [
        "sns.jointplot(x='age',y='fare', kind ='scatter',data=titanic);"
      ]
    },
    {
      "cell_type": "markdown",
      "metadata": {
        "id": "kvSohkGLWZcW"
      },
      "source": [
        "#### Kernel density estimates (KDE)\n",
        "Plots a bivariate kernel density estimate with univariate kernel density estimate on each axis\n",
        "\n",
        "<br><font color= \"orchid\"><b> Copy and change the original jointplot code to produce a kde plot </font>"
      ]
    },
    {
      "cell_type": "code",
      "execution_count": null,
      "metadata": {
        "id": "2FmPvyHUWZcW"
      },
      "outputs": [],
      "source": [
        "# plot a kde plot\n"
      ]
    },
    {
      "cell_type": "markdown",
      "metadata": {
        "id": "JakAh7NKWZcW"
      },
      "source": [
        "#### Regression plots\n",
        "\n",
        "Adds a linear regression fit to the scatter plot.\n",
        "Univariate KDE curves on axis.\n",
        "\n",
        "<br><font color= \"orchid\"><b> Copy and change the original jointplot code to produce a regression plot </font>"
      ]
    },
    {
      "cell_type": "code",
      "execution_count": null,
      "metadata": {
        "id": "cKXvMwvAWZcW"
      },
      "outputs": [],
      "source": [
        "# plot a reg plot\n"
      ]
    },
    {
      "cell_type": "markdown",
      "metadata": {
        "id": "EHuvSg8qWZcW"
      },
      "source": [
        "#### Hexbin plots\n",
        "\n",
        "\"Hexbin plots take in lists of X and Y values and returns what looks somewhat similar to a scatter plot, but where the entire graphing space has been divided into hexagons (like a honeycomb) and all points have been grouped into their respective hexagonal regions with a color gradient indicating the density (or mean Z values) of each hexagonal area.\"\n",
        "\n",
        "##### Why not just use a scatterplot?\n",
        "\n",
        "Hexbins are particularly useful if you have a lot of data or lots of overlapping points as they give a good visualisation of point density.\n",
        "\n",
        "\n",
        "Explanation source and full article: https://medium.com/@mattheweparker/visualizing-data-with-hexbins-in-python-39823f89525e\n",
        "\n",
        "<br><font color= \"orchid\"><b> Copy and change the original jointplot code to produce a hexbin plot </font>"
      ]
    },
    {
      "cell_type": "code",
      "execution_count": null,
      "metadata": {
        "id": "lSirwztPWZcW"
      },
      "outputs": [],
      "source": [
        "# plot a hex plot\n"
      ]
    },
    {
      "cell_type": "markdown",
      "metadata": {
        "id": "cng9vUhGWZcW"
      },
      "source": [
        "#### Residuals plot\n",
        "Plots the residuals of a linear regression.\n",
        "\n",
        "Residual plots are used to evaluate regression models, I have included them for reference as some of you may already produce them using other software. However  don't worry if you don't recognise then (we are not covering stats. theory here).\n",
        "\n",
        "If you would like to learn more about residuals this article gives a good explanation: https://www.statisticshowto.com/residual-plot/\n",
        "\n",
        "<br><font color= \"orchid\"><b> Copy and change the original jointplot code to produce a residuals plot </font>"
      ]
    },
    {
      "cell_type": "code",
      "execution_count": null,
      "metadata": {
        "id": "0OyKqRF4WZcW"
      },
      "outputs": [],
      "source": [
        "# plot a residuals plot\n"
      ]
    },
    {
      "cell_type": "markdown",
      "metadata": {
        "id": "bxZWY7UGWZcX"
      },
      "source": [
        "<div class=\"alert alert-block alert-info\"> <b>NOTE</b> If you are getting a red box with warning messaged about depricated packages, uncomment and run the code below </div>"
      ]
    },
    {
      "cell_type": "code",
      "execution_count": null,
      "metadata": {
        "id": "xKHWqswEWZcX"
      },
      "outputs": [],
      "source": [
        "# import warnings\n",
        "# warnings.filterwarnings('ignore')"
      ]
    },
    {
      "cell_type": "markdown",
      "metadata": {
        "id": "PobAffMuWZcX"
      },
      "source": [
        "### Different editable parameters with Seaborn\n",
        "To edit the seaborn plot, the parameters you specify are slightly different to matplotlib.\n",
        "\n",
        "You will notice with seaborn that the <code>x</code> and <code>y</code> specify only the column name and <code>data</code> is used to specify the dataframe where the <code>x</code>&<code>y</code> columns can be found.\n",
        "\n",
        "#### Other editable parameters:\n",
        "- <code>color=</code> colour of the points, see the list of matplotlib colours. Colours need to be in speech marks e.g.<code>\"red\"</code>\n",
        "<br>Note the American spelling, using 'colour' will produce an error\n",
        "- <code>height=</code> Size of the figure (it will be square), enter a numerical value.\n",
        "- <code>marker=</code> Same as matplotlib\n",
        "\n",
        "\n",
        "Read more about the editable parameters in the [seaborn jointplot documentation](https://seaborn.pydata.org/generated/seaborn.jointplot.html)\n",
        "<br> <font color='orchid'> <b>Play arround with the code below, changing different elements</b></font>"
      ]
    },
    {
      "cell_type": "code",
      "execution_count": null,
      "metadata": {
        "id": "a0ymYI3lWZcX"
      },
      "outputs": [],
      "source": [
        "sns.jointplot(x='age',y='fare', color='red', kind ='scatter',data=titanic,\n",
        "             height=8, marker='v');"
      ]
    },
    {
      "cell_type": "markdown",
      "metadata": {
        "id": "QSB2mKa0WZcX"
      },
      "source": [
        "### JointGrid\n",
        "Now you have created a few different plots have a look at the JointGrid documentation, to combine multiple plots into 1 figure (useful for academic publications) <br>\n",
        "\n",
        "https://seaborn.pydata.org/generated/seaborn.JointGrid.html"
      ]
    },
    {
      "cell_type": "code",
      "execution_count": null,
      "metadata": {
        "id": "qO9fvslPWZcX"
      },
      "outputs": [],
      "source": [
        "## Write some code using the JointGrid funciton here\n",
        "\n",
        "\n"
      ]
    },
    {
      "cell_type": "markdown",
      "metadata": {
        "id": "dfmMsqZXWZcX"
      },
      "source": [
        "## Plotting categorical data\n",
        "### Bar chart\n",
        "\n",
        "We are going to use seaborne.catplot; this is a visulisation which can handle categorical data.\n",
        "\n",
        "We are going to plot the column 'coffee_shop;, as each row is a unique type of coffee by counting the number of times the coffee shop name occurs that tells us how many coffees they sell.\n"
      ]
    },
    {
      "cell_type": "code",
      "execution_count": null,
      "metadata": {
        "id": "JvH_yrmfWZcX"
      },
      "outputs": [],
      "source": [
        "sns.catplot(x='pclass', data=titanic, kind='count')"
      ]
    },
    {
      "cell_type": "markdown",
      "metadata": {
        "id": "rNh1-a0uWZcX"
      },
      "source": [
        " Now produce a count plot for column 'embark_town'\n",
        "<font color='orchid'> <b>Write your own code in the cell bellow</b></font>"
      ]
    },
    {
      "cell_type": "code",
      "execution_count": null,
      "metadata": {
        "id": "fxtn0fbIWZcX"
      },
      "outputs": [],
      "source": [
        "# write code here\n"
      ]
    },
    {
      "cell_type": "markdown",
      "metadata": {
        "id": "LbUccDOFWZcX"
      },
      "source": [
        "This is what you should see <img src= \"../screenshots/embark_count.png\" width =400 >"
      ]
    },
    {
      "cell_type": "markdown",
      "metadata": {
        "id": "Srcjdo8VWZcX"
      },
      "source": [
        "### Box plot\n",
        "\n",
        "Visualises the summary statistics of the data: mean/median and interquartile ranges"
      ]
    },
    {
      "cell_type": "code",
      "execution_count": null,
      "metadata": {
        "id": "e7d2AsP1WZcX"
      },
      "outputs": [],
      "source": [
        "# plot a boxplot of fare by the passenger class\n",
        "plt.figure(figsize=(10,10))\n",
        "sns.boxplot(x='pclass', y='fare', data=titanic);"
      ]
    },
    {
      "cell_type": "markdown",
      "metadata": {
        "id": "rQS2oSA6WZcX"
      },
      "source": [
        "### Violin plot\n",
        "Also visualises the summary statisitcs of the data, but often prefered over a box plot as they also show the distribution of the data"
      ]
    },
    {
      "cell_type": "code",
      "execution_count": null,
      "metadata": {
        "scrolled": true,
        "id": "Wfbi1BM7WZcX"
      },
      "outputs": [],
      "source": [
        "plt.figure(figsize=(12,8))\n",
        "sns.violinplot(x='pclass', y='fare', data=titanic);"
      ]
    },
    {
      "cell_type": "markdown",
      "metadata": {
        "id": "zdBqKXU5WZcX"
      },
      "source": [
        "You can edit the violin plot to show a third variable, using the <code>hue</code> parameter.\n",
        "<br>Adding <code>hue='sex'</code> will produce a violinplot for fare by class for male and females."
      ]
    },
    {
      "cell_type": "code",
      "execution_count": null,
      "metadata": {
        "id": "l4wST9-lWZcX"
      },
      "outputs": [],
      "source": [
        "# Visualise the distirbution and summary stats. of fare price for each passeneger class, by sex.\n",
        "\n",
        "# define plot size\n",
        "plt.figure(figsize=(12,8))\n",
        "# plot\n",
        "sns.violinplot(x='pclass', y='fare',  hue='sex', data=titanic);"
      ]
    },
    {
      "cell_type": "markdown",
      "metadata": {
        "id": "WRvnyNyZWZcX"
      },
      "source": [
        "Try adding the code <code> split=True, </code> to the graph specifications above. What happens?"
      ]
    },
    {
      "cell_type": "code",
      "execution_count": null,
      "metadata": {
        "id": "wCdlboexWZcX"
      },
      "outputs": [],
      "source": [
        "# Visualise the distirbution and summary stats. of fare price for each passeneger class, by sex.\n",
        "# add split=True\n",
        "\n"
      ]
    },
    {
      "cell_type": "markdown",
      "metadata": {
        "id": "4upouKGoWZcY"
      },
      "source": [
        "### Categorical plot: the realtionship between a categorical and numerical variable\n",
        "\n",
        "<code>sns.catplot.()</code> by default plots a  'stripplot': a scatterplot where one variable is categorical.\n",
        "\n",
        "\n",
        "\n",
        "\n",
        "\n",
        "\n"
      ]
    },
    {
      "cell_type": "markdown",
      "metadata": {
        "id": "fDlRxKtUWZcY"
      },
      "source": [
        "<font color='orchid'> <b>Plot the fare price by class</font>"
      ]
    },
    {
      "cell_type": "code",
      "execution_count": null,
      "metadata": {
        "id": "X-HnQ3qPWZcY"
      },
      "outputs": [],
      "source": [
        "sns.catplot(x='pclass', y='fare', data=titanic, height=6, dodge=True);"
      ]
    },
    {
      "cell_type": "markdown",
      "metadata": {
        "id": "d70RJghsWZcY"
      },
      "source": [
        "<font color='orchid'> <b>Plot the fair paid by each passenger by class and colour the points based on the sex of the passenger </font>\n"
      ]
    },
    {
      "cell_type": "code",
      "execution_count": null,
      "metadata": {
        "id": "7_ZaplgTWZcY"
      },
      "outputs": [],
      "source": [
        "sns.catplot(x='pclass', y='fare',  hue='sex', height=6,data=titanic,);"
      ]
    },
    {
      "cell_type": "markdown",
      "metadata": {
        "id": "tGOigCOUWZcY"
      },
      "source": [
        "<font color='orchid'> <b>Plot the age of passenger (y axis) by sex (x axis) and colour the points based on whether they were traveling alone </font>\n"
      ]
    },
    {
      "cell_type": "code",
      "execution_count": null,
      "metadata": {
        "id": "GB2ppOwnWZcY"
      },
      "outputs": [],
      "source": [
        "# type code here\n"
      ]
    },
    {
      "cell_type": "markdown",
      "metadata": {
        "id": "jFhE7xdjWZcY"
      },
      "source": [
        "It should look like this:\n",
        "<img src= \"screenshots/sex_age_alone_vis.png\" width =500 >"
      ]
    },
    {
      "cell_type": "markdown",
      "metadata": {
        "id": "Q9xsUxYrWZcY"
      },
      "source": [
        "You cna even plot a forth variable by specifying <code>col= 'varaible_name',</code> to plot seperate plots for each category. E.g.:"
      ]
    },
    {
      "cell_type": "code",
      "execution_count": null,
      "metadata": {
        "id": "rP_2YDpmWZcY"
      },
      "outputs": [],
      "source": [
        "sns.catplot(x='sex', y='age',  col='class', hue='alive', data=titanic);"
      ]
    },
    {
      "cell_type": "markdown",
      "metadata": {
        "id": "1uRXJ0ckWZcY"
      },
      "source": [
        "### Color palettes\n",
        "\n",
        "Where we specify hue, or are using more than one color in a plot we can specify the palette we want to use for different colors.\n",
        "\n",
        "http://seaborn.pydata.org/tutorial/color_palettes.html"
      ]
    },
    {
      "cell_type": "code",
      "execution_count": null,
      "metadata": {
        "id": "UKnc2d4IWZcY"
      },
      "outputs": [],
      "source": [
        "# Code to show all color maps (just run do not worry about what the code is doing- this is for reference only)\n",
        "\n",
        "cmaps =  [('All Color Maps',\n",
        "\"Accent, Accent_r, Blues, Blues_r, BrBG, BrBG_r, BuGn, BuGn_r, BuPu, \\\n",
        "           BuPu_r, CMRmap, CMRmap_r, Dark2, Dark2_r, GnBu, GnBu_r, \\\n",
        "           Greens, Greens_r, Greys, Greys_r, OrRd, OrRd_r, Oranges, \\\n",
        "           Oranges_r, PRGn, PRGn_r, Paired, Paired_r, Pastel1, Pastel1_r, \\\n",
        "           Pastel2, Pastel2_r, PiYG, PiYG_r, PuBu, PuBuGn, PuBuGn_r, PuBu_r, \\\n",
        "           PuOr, PuOr_r, PuRd, PuRd_r, Purples, Purples_r, RdBu, RdBu_r, \\\n",
        "           RdGy, RdGy_r, RdPu, RdPu_r, RdYlBu, RdYlBu_r, RdYlGn, RdYlGn_r, \\\n",
        "           Reds, Reds_r, Set1, Set1_r, Set2, Set2_r, Set3, Set3_r, Spectral,\\\n",
        "           Spectral_r, Wistia, Wistia_r, YlGn, YlGnBu, YlGnBu_r, YlGn_r, \\\n",
        "           YlOrBr, YlOrBr_r, YlOrRd, YlOrRd_r, afmhot, afmhot_r, autumn, \\\n",
        "           autumn_r, binary, binary_r, bone, bone_r, brg, brg_r, bwr, \\\n",
        "           bwr_r, cool, cool_r, coolwarm, coolwarm_r, copper, copper_r, \\\n",
        "           cubehelix, cubehelix_r, flag, flag_r, gist_earth, gist_earth_r, \\\n",
        "           gist_gray, gist_gray_r, gist_heat, gist_heat_r, gist_ncar, \\\n",
        "           gist_ncar_r, gist_rainbow, gist_rainbow_r, gist_stern, \\\n",
        "           gist_stern_r, gist_yarg, gist_yarg_r, gnuplot, gnuplot2, \\\n",
        "           gnuplot2_r, gnuplot_r, gray, gray_r, hot, hot_r, hsv, \\\n",
        "           hsv_r, inferno, inferno_r, jet, jet_r, magma, magma_r, \\\n",
        "           nipy_spectral, nipy_spectral_r, ocean, ocean_r, pink, \\\n",
        "           pink_r, plasma, plasma_r, prism, prism_r, rainbow, rainbow_r, \\\n",
        "           seismic, seismic_r, spring, spring_r, summer, summer_r, terrain, \\\n",
        "           terrain_r, viridis, viridis_r, winter, winter_r\".replace(\" \", \"\").split(',')\n",
        "          )]\n",
        "nrows = max(len(cmap_list) for cmap_category, cmap_list in cmaps)\n",
        "gradient = np.linspace(0, 1, 256)\n",
        "gradient = np.vstack((gradient, gradient))\n",
        "\n",
        "\n",
        "def plot_color_gradients(cmap_category, cmap_list, nrows):\n",
        "    height = 0.4 * nrows\n",
        "    fig, axes = plt.subplots(nrows=nrows, figsize=(10, height))\n",
        "    fig.subplots_adjust(top=0.95, bottom=0.01, left=0.2, right=0.99)\n",
        "    axes[0].set_title(cmap_category + ' colormaps', fontsize=14)\n",
        "\n",
        "    for ax, name in zip(axes, cmap_list):\n",
        "        ax.imshow(gradient, aspect='auto', cmap=plt.get_cmap(name))\n",
        "        pos = list(ax.get_position().bounds)\n",
        "        x_text = pos[0] - 0.01\n",
        "        y_text = pos[1] + pos[3]/2.\n",
        "        fig.text(x_text, y_text, name, va='center', ha='right', fontsize=10)\n",
        "\n",
        "    # Turn off *all* ticks & spines, not just the ones with colormaps.\n",
        "    for ax in axes:\n",
        "        ax.set_axis_off()\n",
        "\n",
        "\n",
        "for cmap_category, cmap_list in cmaps:\n",
        "\n",
        "    plot_color_gradients(cmap_category, cmap_list, nrows)\n",
        "\n",
        "plt.show();\n",
        "\n",
        "# code source: https://stackoverflow.com/questions/48114473/scaling-plot-sizes-with-matplotlib"
      ]
    },
    {
      "cell_type": "code",
      "execution_count": null,
      "metadata": {
        "id": "9Z3hs3GvWZcY"
      },
      "outputs": [],
      "source": [
        "sns.palplot(sns.color_palette(\"colorblind\", 10))"
      ]
    },
    {
      "cell_type": "code",
      "execution_count": null,
      "metadata": {
        "id": "iFp5Sb5GWZcY"
      },
      "outputs": [],
      "source": [
        "sns.catplot(x='pclass', y='fare',  hue='class', kind='violin', palette='colorblind',height=6,data=titanic);"
      ]
    },
    {
      "cell_type": "markdown",
      "metadata": {
        "id": "qpm8SpGwWZcY"
      },
      "source": [
        "### Facetting plots: seperate for categorical variables\n",
        "\n",
        "Facetting maps a dataset onto multiple axes arrayed in a grid of rows and columns that correspond to levels of variables in the dataset.\n",
        "\n",
        "We can asign <code>row=</code>, <code>col=</code> or both as a categorical variable, instructing python to plot a series of graphs, each in a row/column which correspond to the data meeting the specified category.\n",
        "\n",
        "\n",
        "\n",
        "specify a categorical variable"
      ]
    },
    {
      "cell_type": "code",
      "execution_count": null,
      "metadata": {
        "id": "RSev07yrWZcY"
      },
      "outputs": [],
      "source": [
        "# define facetting and assign to variable g\n",
        "g=sns.FacetGrid(titanic, col=\"alive\", row=\"sex\")\n",
        "\n",
        "# Apply the plotting function to each facet’s (g) subset of the data. (map the plotting to the facet grid)\n",
        "g.map(sns.countplot, \"class\",  data =titanic)\n",
        "g;"
      ]
    },
    {
      "cell_type": "code",
      "execution_count": null,
      "metadata": {
        "id": "Xry-juadWZcY"
      },
      "outputs": [],
      "source": [
        "sns.catplot(x='sex', y='age',  col='class', row='alone', hue='alive',  data=titanic)"
      ]
    },
    {
      "cell_type": "markdown",
      "metadata": {
        "id": "v-tZCWF1WZcY"
      },
      "source": [
        "### Strip, swarm, violin, box, boxen, point and bar plots (categorical + numerical data vis)"
      ]
    },
    {
      "cell_type": "markdown",
      "metadata": {
        "id": "TTUDHKYQWZcZ"
      },
      "source": [
        "\n",
        "<code>sns.catplot()</code> can also be used to draw other caeogrical plot types, inclusing some we have already covered, by specifying <code>kind= </code>\n",
        "\n",
        "<code>kind =</code>:\n",
        "\n",
        "- 'strip': stip plot (default)\n",
        "- 'swarm': swarm plot\n",
        "- 'violin': violin plot\n",
        "- 'box': box plots\n",
        "- 'boxen': boxen plots\n",
        "- 'point': point plot\n",
        "- 'bar': bar plot\n",
        "\n",
        "These are demonstrated in the code below, do not worry about trying to reporduce the code below, the comments are just for your own interest.\n",
        "\n"
      ]
    },
    {
      "cell_type": "code",
      "execution_count": null,
      "metadata": {
        "id": "iPewE4GaWZcZ"
      },
      "outputs": [],
      "source": [
        "# List of all catplot kind variables\n",
        "kind =['strip','swarm','box','violin','boxen','point','bar']\n",
        "\n",
        "# for element in the list kind\n",
        "for i in kind:\n",
        "    # plot a catplot where kind refers to the ith element in the list\n",
        "    g=sns.catplot(x='pclass', y='fare', data=titanic, height=6, dodge=True, kind=i)\n",
        "    # add title to the plot 'kind = ith elemnt in the list'\n",
        "    g.fig.suptitle('kind = '+i)\n",
        ""
      ]
    },
    {
      "cell_type": "code",
      "execution_count": null,
      "metadata": {
        "id": "C2HiKjx4WZcZ"
      },
      "outputs": [],
      "source": [
        "sns.catplot(data=titanic, kind='point', y='fare',x='class')"
      ]
    },
    {
      "cell_type": "markdown",
      "metadata": {
        "id": "L95WvKQ8WZcZ"
      },
      "source": [
        "## Data Visualisation to aid analysis\n",
        "\n",
        "### Pair plots\n",
        "To get a better sense of how the variables are all related we can plot a pairplot: plotting all the variables against each other in a grid. Where variables are plotted against themselves a histogram is plotted instead to show the distribution of the data (plotted on the diagonal). <br>\n",
        "Seaborn has a simple <code>.pairplot()</code> function\n",
        "<br> <font color='orchid'> <b>Run the code below </b></font>"
      ]
    },
    {
      "cell_type": "code",
      "execution_count": null,
      "metadata": {
        "id": "fIlCTgozWZcZ"
      },
      "outputs": [],
      "source": [
        "titanic.dtypes"
      ]
    },
    {
      "cell_type": "markdown",
      "metadata": {
        "id": "YWLeCfgVWZcZ"
      },
      "source": [
        "Convert boolean to integer for pair plot plotting"
      ]
    },
    {
      "cell_type": "code",
      "execution_count": null,
      "metadata": {
        "id": "EnpJTMEXWZcZ"
      },
      "outputs": [],
      "source": [
        "titanic_clean = titanic\n",
        "titanic_clean[\"adult_male\"] = titanic_clean[\"adult_male\"].astype(int)\n",
        "titanic_clean[\"alone\"] = titanic_clean[\"alone\"].astype(int)"
      ]
    },
    {
      "cell_type": "code",
      "execution_count": null,
      "metadata": {
        "id": "47SG6TwdWZcZ"
      },
      "outputs": [],
      "source": [
        "sns.pairplot(titanic_clean);"
      ]
    },
    {
      "cell_type": "markdown",
      "metadata": {
        "id": "sIQM2zu0WZcZ"
      },
      "source": [
        "Similar to other seaborn plot you can define a variable to represent colour (hue) in the pairplot. E.g.<code> hue ='class'</code>"
      ]
    },
    {
      "cell_type": "code",
      "execution_count": null,
      "metadata": {
        "id": "Xthj00IKWZcZ"
      },
      "outputs": [],
      "source": [
        "sns.pairplot(titanic_clean, hue='class',diag_kind='hist');"
      ]
    },
    {
      "cell_type": "markdown",
      "metadata": {
        "id": "ws3qz5VsWZcZ"
      },
      "source": [
        "### Heatmap (variable correlation)\n"
      ]
    },
    {
      "cell_type": "markdown",
      "metadata": {
        "id": "U7I25CukWZcZ"
      },
      "source": [
        "We can only calculate the correlation of numeric data. TO do this we will sue the <code>df.select_dtypes(include=np.number)</code> to select only the numeric columns"
      ]
    },
    {
      "cell_type": "code",
      "execution_count": null,
      "metadata": {
        "scrolled": true,
        "id": "dRT8dgHtWZcZ"
      },
      "outputs": [],
      "source": [
        "titanic_numeric = titanic.select_dtypes(include=np.number)\n"
      ]
    },
    {
      "cell_type": "code",
      "execution_count": null,
      "metadata": {
        "id": "ogt7QGdYWZcZ"
      },
      "outputs": [],
      "source": [
        "titanic_numeric.corr()"
      ]
    },
    {
      "cell_type": "code",
      "execution_count": null,
      "metadata": {
        "scrolled": true,
        "id": "fwWsPiCLWZcZ"
      },
      "outputs": [],
      "source": [
        "# set figure size\n",
        "plt.figure(figsize=(8,8))\n",
        "# plot a heatmap of the correlation table created above, annot= True annotates the cells with the correlation value\n",
        "sns.heatmap(titanic_numeric.corr(), annot=True, cmap='viridis');"
      ]
    },
    {
      "cell_type": "markdown",
      "metadata": {
        "id": "cnW6w7_uWZcZ"
      },
      "source": [
        "## Exercise Answers\n",
        "\n",
        "![scatterplot_pink_answer.png](attachment:scatterplot_pink_answer.png)\n",
        "3.4\n",
        "![answer_kde_plot.png](attachment:answer_kde_plot.png)\n",
        "![answer_reg_plot.png](attachment:answer_reg_plot.png)\n",
        "![answer_hex_plot.png](attachment:answer_hex_plot.png)\n",
        "![answer_resid_plot.png](attachment:answer_resid_plot.png)"
      ]
    },
    {
      "cell_type": "markdown",
      "metadata": {
        "id": "okCJKYRNWZcZ"
      },
      "source": [
        "If you are interested try looking at the [seaborn example gallery](https://seaborn.pydata.org/examples/index.html) and experiment by plotting some of the visualisations with the coffee data. <br>\n",
        "You can also try reading in your own data (make sure its in a CSV format- this is easy to do [for excel spreadsheets](https://www.ablebits.com/office-addins-blog/2014/04/24/convert-excel-csv/)) using <code>pd.read_csv()</code> and making your own visualistaions."
      ]
    },
    {
      "cell_type": "markdown",
      "metadata": {
        "id": "Ip5GqZvVWZcZ"
      },
      "source": [
        "# Exercise: Data manipulation and visualisation\n",
        "- Grouping data to apply functions\n",
        "- Considering how we handle different data types differently\n"
      ]
    },
    {
      "cell_type": "markdown",
      "metadata": {
        "id": "vqSoktVqWZcZ"
      },
      "source": [
        "## Bike share data\n",
        "We visited this Bike share data last week from Transport for London, downloaded from [Kaggle](https://www.kaggle.com/hmavrodiev/london-bike-sharing-dataset). I have downloaded the data and saved it as a csv file for you in the notebook directory. You can also download the dataset yourselves.\n",
        "\n",
        "#### Note about Kaggle <a class=\"tocSkip\">\n",
        "Kaggle is a great source of datasets which are free to download to get started with doing some data analysis. They also run data challenges where a dataset and problem will be given for you to solve. These challenges are a great way to practice your data science skills.\n",
        "\n",
        "#### About the data <a class=\"tocSkip\">\n",
        "    \n",
        "Bike sharing is where bicycles are made available for shared use to individuals on a short term basis for a price or free. Many bike share systems allow people to borrow a bike from a \"dock\" and return it at another dock belonging to the same system. Docks are special bike racks that lock the bike, and only release it by computer control. The user enters payment information, and the computer unlocks a bike. The user returns the bike by placing it in the dock, which locks it in place. [Source](https://en.wikipedia.org/wiki/Bicycle-sharing_system)\n",
        "    \n",
        "If you are unfamiliar with the concept of bike sharing in the UK have a quick read of this [article](https://tfl.gov.uk/modes/cycling/santander-cycles/how-it-works) <br>\n",
        "\n",
        "Some metadata information about the variables:\n",
        "- <b>cnt</b>: The count of new bike shares\n",
        "- <b>timestamp</b>: date and time of new bike share\n",
        "- <b>t1</b>: real temperature in Celsius\n",
        "- <b>t2</b>: \"feels like\" temperature in Celsius\n",
        "- <b>hum</b>: humidity in percentage\n",
        "- <b>wind_speed</b>: wind speed in km/h\n",
        "- <b>weather_code</b>: category of the weather\n",
        "    - Description:\n",
        "        - 1 = Clear ; mostly clear but have some values with haze/fog/patches of fog/ fog in vicinity\n",
        "        - 2 = scattered clouds / few clouds\n",
        "        - 3 = Broken clouds\n",
        "        - 4 = Cloudy\n",
        "        - 7 = Rain/ light Rain shower/ Light rain\n",
        "        - 10 = rain with thunderstorm\n",
        "- <b>is_holiday</b>: boolean field: 1 holiday / 0 non holiday\n",
        "- <b>is_weekend</b>: boolean field: 1 if the day is weekend/ 0 weekday\n",
        "- <b>season</b>: category field of meteorological seasons: 0: spring ; 1: summer; 2: autumn; 3:winter\n",
        "    \n",
        "For a bit of a reminder of data manipulation from last week to get the data into a plottable form:    \n",
        "    \n",
        "<br> <font color='orchid'> <b>Run the code below to read in the data </b></font>\n",
        "\n"
      ]
    },
    {
      "cell_type": "code",
      "execution_count": null,
      "metadata": {
        "id": "8p42Jp9PWZcZ"
      },
      "outputs": [],
      "source": [
        "# read in bike-share data (we used it last week)\n",
        "bike = pd.read_csv(\"https://github.com/FrancescaPontin/GEOG5990M/raw/refs/heads/main/data/week_16/london_merged.csv\")"
      ]
    },
    {
      "cell_type": "markdown",
      "metadata": {
        "id": "rowHz3XwWZca"
      },
      "source": [
        "#### Explore the data <a class=\"tocSkip\">\n",
        "Explore the data yourselves using the <code>.head()</code>, <code>.tail()</code> and <code>.describe()</code> functions introduced in exercise 1.\n",
        "<br> <font color='orchid'> <b>Write your own code below </b></font>"
      ]
    },
    {
      "cell_type": "code",
      "execution_count": null,
      "metadata": {
        "id": "F5W7bpVwWZca"
      },
      "outputs": [],
      "source": [
        "# explore the data\n"
      ]
    },
    {
      "cell_type": "code",
      "execution_count": null,
      "metadata": {
        "id": "Hd8EOfuLWZca"
      },
      "outputs": [],
      "source": [
        "# explore the data\n"
      ]
    },
    {
      "cell_type": "markdown",
      "metadata": {
        "id": "5HdkosEGWZca"
      },
      "source": [
        "Let us also check the data type of each of the columns in the bike dataframe using <code>.dtypes</code> to see if they are what we expect.\n",
        "<br> <font color='orchid'> <b>Run the code below </b></font>"
      ]
    },
    {
      "cell_type": "code",
      "execution_count": null,
      "metadata": {
        "id": "lcCsJLIxWZca"
      },
      "outputs": [],
      "source": [
        "bike.dtypes"
      ]
    },
    {
      "cell_type": "markdown",
      "metadata": {
        "id": "H4P3BYZmWZca"
      },
      "source": [
        "#### Metadata and data type comaprison  <a class='tocSkip'>\n",
        "\n",
        "We would expect temperature (t1,t2), percentage humidity (hum) and wind speed (wind_speed) to be floats as these values are not limited to whole whole numbers. <br>\n",
        "\n",
        "We would also expect cnt to be an integer as you cannot get half a bike share. <br>\n",
        "\n",
        "Though is_holiday and is_weekend are boolean (1 or 0 aka True or False) we will leave them as integers for now to make later analysis easier.<br>\n",
        "\n",
        "We can see that the timestamp column has been read in as object. While it should be a datetime data type. We can convert the object to datetime using the pandas function <code>pd.to_datatime</code>\n",
        "\n",
        "<br> <font color='orchid'> <b>Run the code below </b></font>"
      ]
    },
    {
      "cell_type": "code",
      "execution_count": null,
      "metadata": {
        "id": "A7bpU0HMWZca"
      },
      "outputs": [],
      "source": [
        "bike['timestamp']"
      ]
    },
    {
      "cell_type": "code",
      "execution_count": null,
      "metadata": {
        "id": "nt86C6ghWZca"
      },
      "outputs": [],
      "source": [
        "bike['timestamp'] = pd.to_datetime(bike['timestamp'], format='mixed')"
      ]
    },
    {
      "cell_type": "code",
      "execution_count": null,
      "metadata": {
        "id": "LhMjzRRzWZca"
      },
      "outputs": [],
      "source": [
        "# re-run d.types to check timestamp is now datetime\n",
        "bike.dtypes"
      ]
    },
    {
      "cell_type": "markdown",
      "metadata": {
        "id": "zTe2WsFgWZca"
      },
      "source": [
        "### Visualising the bike share data.\n",
        "\n",
        "To get a better sense of how the variables are all related we can plot a pair plot as we did in section 3.6\n",
        "<br> <font color='orchid'> <b>Run the code below* </b></font>\n",
        "\n",
        "*this might take a minute or two"
      ]
    },
    {
      "cell_type": "code",
      "execution_count": null,
      "metadata": {
        "id": "JZVGI2fGWZca"
      },
      "outputs": [],
      "source": [
        "sns.pairplot(bike);"
      ]
    },
    {
      "cell_type": "markdown",
      "metadata": {
        "id": "Wb2loNZxWZca"
      },
      "source": [
        "#### What can we tell from the pairplots above? <a class=\"tocSkip\">\n",
        "\n",
        "Try and answer the following questions looking at the plot above:\n",
        "- Is the week or weekend more popular for bike shares?\n",
        "- Is there a relationship between weather and season?\n",
        "- Do holidays affect bike share use?\n",
        "- Which variables are most highly correlated? Is this surprising?\n",
        "- Is there a trend between number of bike shares and percentage humidity?\n",
        "- Which of the numerical variables are normally distributed and which are skewed<br>\n",
        "<br>\n",
        "- What do you think will be the best predictors of bike share count?"
      ]
    },
    {
      "cell_type": "markdown",
      "metadata": {
        "id": "JHCH0UtxWZca"
      },
      "source": [
        "##### Write any notes/ answers here in this markdown (text) cell.\n",
        "-  \n",
        "-\n",
        "-\n",
        "-\n",
        "-\n",
        "-\n"
      ]
    },
    {
      "cell_type": "markdown",
      "metadata": {
        "id": "OsNaaNTXWZca"
      },
      "source": [
        "## Introduction to the  groupby function\n",
        "### What is the<code>.groupby()</code> function?\n",
        "An explanation from the [package documentation](https://pandas.pydata.org/pandas-docs/stable/reference/api/pandas.DataFrame.groupby.html):<br>\n",
        "<i>\"A groupby operation involves some combination of splitting the object, applying a function, and combining the results. This can be used to group large amounts of data and compute operations on these groups\"</i>\n",
        "\n",
        "<code>.groupby()</code> is useful to group data to identify interesting patterns and calculate some summary statistics that give us more insight into the data. <code>.groupby()</code> can also be used to group data before we plot it, to make more interesting graphs and visualisations."
      ]
    },
    {
      "cell_type": "markdown",
      "metadata": {
        "id": "NXLC67TuWZca"
      },
      "source": [
        "We can group the bike dataframe by <code>'is_weekend'</code>, then use the <code>.size()</code> function to calculate how many days are classified as being a weekend or weekday.\n",
        "<br> <font color='orchid'> <b>Run the code below </b></font>"
      ]
    },
    {
      "cell_type": "code",
      "execution_count": null,
      "metadata": {
        "id": "B2bdgRjjWZca"
      },
      "outputs": [],
      "source": [
        "# group the bike dataframe by 'is_weekend', then use the .size() function\n",
        "bike.groupby('is_weekend').size()"
      ]
    },
    {
      "cell_type": "markdown",
      "metadata": {
        "id": "PJyM1DmQWZca"
      },
      "source": [
        "We can also group the data and then calculate summary statistics (using the functions introduced last workshop: <code>.mean()</code>, <code>.median()</code>, <code>.quantile(0.25)</code>, <code>.max()</code>, <code>.min()</code>)\n",
        "\n",
        "<br> <font color='orchid'> <b>Run the code below then experiment calculating your own summary statistics on grouped data</b></font>"
      ]
    },
    {
      "cell_type": "code",
      "execution_count": null,
      "metadata": {
        "scrolled": true,
        "id": "YfsmKRNUWZca"
      },
      "outputs": [],
      "source": [
        "bike.groupby('is_weekend').mean()"
      ]
    },
    {
      "cell_type": "code",
      "execution_count": null,
      "metadata": {
        "id": "i_2cRYZ1WZca"
      },
      "outputs": [],
      "source": [
        "# experiment here\n"
      ]
    },
    {
      "cell_type": "code",
      "execution_count": null,
      "metadata": {
        "id": "v95U4wBCWZca"
      },
      "outputs": [],
      "source": [
        "# experiment here\n"
      ]
    },
    {
      "cell_type": "code",
      "execution_count": null,
      "metadata": {
        "id": "nN_bW03mWZca"
      },
      "outputs": [],
      "source": [
        "# experiment here\n"
      ]
    },
    {
      "cell_type": "markdown",
      "metadata": {
        "id": "23o_fzbEWZca"
      },
      "source": [
        "If you are interested in calculating the summary stats. of one column you can put it in squared brackets after the groupby function <br> I.e. <code><font color='red'>dataframe_name</font>.groupby(\"<font color='red'>column_name to groupby</font>\")[\"<font color='red'>column_name to calc. summary stats for</font>\"].mean()</code>"
      ]
    },
    {
      "cell_type": "code",
      "execution_count": null,
      "metadata": {
        "id": "TfD929biWZcb"
      },
      "outputs": [],
      "source": [
        "# group the bike dataframe by 'is_weekend' and calcualte the mean number of bike shares ('cnt') for weekdays and weekends\n",
        "bike.groupby('is_weekend')['cnt'].mean()"
      ]
    },
    {
      "cell_type": "markdown",
      "metadata": {
        "id": "AnVIlToIWZcb"
      },
      "source": [
        "<font color='orchid'><b> Write your own function to group the bike dataframe by 'is_weekend' and calculate the <b>maximum</b> daily number of bike shares ('cnt') on a weekday and weekend </font> (Solution at the end of the exercise if you get stuck)"
      ]
    },
    {
      "cell_type": "code",
      "execution_count": null,
      "metadata": {
        "scrolled": true,
        "id": "zmvV1dfTWZcb"
      },
      "outputs": [],
      "source": [
        "bike.groupby('is_weekend')['cnt'].max()"
      ]
    },
    {
      "cell_type": "markdown",
      "metadata": {
        "id": "FaPiHmeIWZcb"
      },
      "source": [
        "<font color='orchid'> <b>Write your own function to calculate the mean number of bike shares for each season </b> </font> (Solution at the end of the exercise if you get stuck)"
      ]
    },
    {
      "cell_type": "code",
      "execution_count": null,
      "metadata": {
        "id": "Y46YCoKEWZcb"
      },
      "outputs": [],
      "source": [
        "bike.groupby('season')['cnt'].mean()"
      ]
    },
    {
      "cell_type": "markdown",
      "metadata": {
        "id": "zClzWjK_WZcb"
      },
      "source": [
        "<font color='orchid'> <b>Write your own function to calculate the minimum number of daily bike shares for each weather type </b></font> (Solution at the end of the exercise if you get stuck)"
      ]
    },
    {
      "cell_type": "code",
      "execution_count": null,
      "metadata": {
        "scrolled": true,
        "id": "_PlrG9UUWZcb"
      },
      "outputs": [],
      "source": [
        "bike.groupby('weather_code')['cnt'].min()"
      ]
    },
    {
      "cell_type": "markdown",
      "metadata": {
        "id": "PNivNMzfWZcb"
      },
      "source": [
        "## Plotting time series data"
      ]
    },
    {
      "cell_type": "markdown",
      "metadata": {
        "id": "5Exh10TdWZcb"
      },
      "source": [
        "Let us plot the total number of bike share uses per day. Currently the bike share data is provided for every hour of every day so we need to group these together to calculate the totals for the day. First of all we need to create a new column for just the date. <br>\n",
        "We do this using the datetime.date function: <code>.dt.date</code>\n",
        "<br> <font color='orchid'> <b>Run the code below </b></font>"
      ]
    },
    {
      "cell_type": "code",
      "execution_count": null,
      "metadata": {
        "id": "bzjG8Bx7WZcb"
      },
      "outputs": [],
      "source": [
        "bike['date']= bike['timestamp'].dt.date"
      ]
    },
    {
      "cell_type": "code",
      "execution_count": null,
      "metadata": {
        "id": "sx--ds_pWZcb"
      },
      "outputs": [],
      "source": [
        "# let's check it has worked\n",
        "bike.head()"
      ]
    },
    {
      "cell_type": "markdown",
      "metadata": {
        "id": "Yx5K5nBtWZcb"
      },
      "source": [
        "Next we need to use the <code>.groupby()</code> function to get a dataframe where each row is a unqiue day.<br>\n",
        "\n",
        "To do this we need to think carefully about how we want to aggregate the columns of the dataframe:<br>\n",
        "\n",
        "For <b>count</b> it makes sense to take the total number of bike share uses across all hours to get the total for the day: therefore we want to aggregate using the <code>.sum()</code> function.<br>\n",
        "\n",
        "For the <b>temperature, humidity and wind speed</b> variables it does not make sense to take the sum of all hours (we would end up with very high temeperatures, humidities and wind speeds) instead taking the average value of all hours of the day makes more sense, using the <code>.mean()</code> function. <br>\n",
        "\n",
        "As <b>weather_code</b> is a non-continuous categorical variable, where a number is used to represent the weather conditions, taking the most common hourly weather type during a day is the most sensible way to accurately represent the overall weather for that day. We can do this using the <code>pd.Series.mode</code> function.\n",
        "\n",
        "For the <b> holiday, weekend, season</b> and <b>date</b> variables they will be the same across all hours of the day, so no calculation is needed. Instead we will just take the first value (for ease) using the <code>.first()</code> function.\n",
        "<br> <font color='orchid'> <b>Run the code below to test this out </b></font>"
      ]
    },
    {
      "cell_type": "code",
      "execution_count": null,
      "metadata": {
        "scrolled": true,
        "id": "FO9OrJeaWZcb"
      },
      "outputs": [],
      "source": [
        "# let's test this out\n",
        "bike.groupby('date')['cnt'].sum()"
      ]
    },
    {
      "cell_type": "code",
      "execution_count": null,
      "metadata": {
        "id": "gzhsJrFdWZcb"
      },
      "outputs": [],
      "source": [
        "# let's test this out\n",
        "# we can add .head() to show just the first 5 lines\n",
        "bike.groupby('date')[['t1','t2','hum','wind_speed']].mean().head()"
      ]
    },
    {
      "cell_type": "code",
      "execution_count": null,
      "metadata": {
        "id": "YEDS3kBmWZcb"
      },
      "outputs": [],
      "source": [
        "# let's test this out\n",
        "bike.groupby('date')['weather_code'].apply(pd.Series.mode).head()"
      ]
    },
    {
      "cell_type": "code",
      "execution_count": null,
      "metadata": {
        "id": "lhP7GvIxWZcb"
      },
      "outputs": [],
      "source": [
        "# let's test this out\n",
        "bike.groupby('date')[['is_holiday','is_weekend','season']].first().head()"
      ]
    },
    {
      "cell_type": "markdown",
      "metadata": {
        "id": "2pm2LKLnWZcb"
      },
      "source": [
        "We can do this all separately, but what if we want to produce a dataframe of the aggregated by day bike data?\n",
        "It is not just as easy as directly combining the above code.\n",
        "<font color='orchid'> Uncomment (remove #) and run the code below, note the error message </font>"
      ]
    },
    {
      "cell_type": "code",
      "execution_count": null,
      "metadata": {
        "id": "v0QMYi2FWZcb"
      },
      "outputs": [],
      "source": [
        "#bike.groupby('date')[['t1','t2','hum','wind_speed']].mean()[['is_holiday','is_weekend','season','date']].first()"
      ]
    },
    {
      "cell_type": "markdown",
      "metadata": {
        "id": "N-WxSEEmWZcb"
      },
      "source": [
        "To solve this we can use <code>.agg({})</code> function to apply [\"one or more operations over the specified axis\"](https://pandas.pydata.org/pandas-docs/stable/reference/api/pandas.DataFrame.agg.html).\n",
        "<br> For each column we specify which function we want to apply to the aggreagated rows.<br>\n",
        "The <code>{}</code> indicate a dictionary object where a set of objects (keys) are mapped to another set of objects (values)\n",
        "i.e. the column is mapped to the required aggregation method.\n",
        "\n",
        "<font color='orchid'> Run the code below and check you understand what it is doing </font>"
      ]
    },
    {
      "cell_type": "code",
      "execution_count": null,
      "metadata": {
        "id": "9edcHfXNWZcb"
      },
      "outputs": [],
      "source": [
        "bike_day = bike.groupby('date').agg({'cnt':'sum', 't1':'mean','t2':'mean','hum':'mean',\n",
        "                                     'wind_speed':'mean','weather_code':pd.Series.mode,\n",
        "                                     'is_holiday':'first','is_weekend':'first',\n",
        "                                     'season':'first','date':'first'})\n",
        "bike_day.head()"
      ]
    },
    {
      "cell_type": "markdown",
      "metadata": {
        "id": "ph34bEIBWZcb"
      },
      "source": [
        "We can now plot number of bike shares by day of the week"
      ]
    },
    {
      "cell_type": "code",
      "execution_count": null,
      "metadata": {
        "id": "-aroNI17WZcb"
      },
      "outputs": [],
      "source": [
        "# change figure size\n",
        "plt.figure(figsize=(15,6))\n",
        "\n",
        "\n",
        "sns.lineplot(x=\"date\", y=\"cnt\", data=bike_day, marker='.');"
      ]
    }
  ],
  "metadata": {
    "kernelspec": {
      "display_name": "Python 3 (ipykernel)",
      "language": "python",
      "name": "python3"
    },
    "language_info": {
      "codemirror_mode": {
        "name": "ipython",
        "version": 3
      },
      "file_extension": ".py",
      "mimetype": "text/x-python",
      "name": "python",
      "nbconvert_exporter": "python",
      "pygments_lexer": "ipython3",
      "version": "3.11.7"
    },
    "toc": {
      "base_numbering": 1,
      "nav_menu": {},
      "number_sections": true,
      "sideBar": true,
      "skip_h1_title": false,
      "title_cell": "Table of Contents",
      "title_sidebar": "Contents",
      "toc_cell": false,
      "toc_position": {
        "height": "calc(100% - 180px)",
        "left": "10px",
        "top": "150px",
        "width": "400.11029052734375px"
      },
      "toc_section_display": true,
      "toc_window_display": true
    },
    "colab": {
      "provenance": []
    }
  },
  "nbformat": 4,
  "nbformat_minor": 0
}