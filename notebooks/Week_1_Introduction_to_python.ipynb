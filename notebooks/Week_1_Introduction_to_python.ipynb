{
  "cells": [
    {
      "cell_type": "markdown",
      "metadata": {
        "id": "pvu4XAs1kree"
      },
      "source": [
        "\n",
        "# GEOG59950 Week 1: Getting started with Python\n",
        "\n",
        "Contact: F.L.Pontin@leeds.ac.uk <a class=\"tocSkip\">"
      ]
    },
    {
      "cell_type": "markdown",
      "metadata": {
        "id": "JVYrh9j8kref"
      },
      "source": [
        "### Hiding Generative AI assistance\n",
        "\n",
        "Before we get started a note on AI. Generative AI might seem like the answer, but until you have a good baseline knowledge in programming it stops you learning from your mistakes (what coding is all about). So we are going to turn-off the in-built AI in colab.\n",
        "\n",
        "1. In the menu click: Tools > Settings\n",
        "2. In the pop-out 'Settings' box you will see a menu on the left-hand side (Site, Editor etc.), go down to Editor.\n",
        "3. Un-select all the tick boxes\n",
        "4. Click 'save' in the bottom right-hand corner\n",
        "\n",
        "\n",
        "![Screenshot showing location of generative AI button](https://github.com/FrancescaPontin/GEOG5990M/blob/main/screenshots/code_auto_complete.png?raw=1)\n",
        "\n"
      ]
    },
    {
      "cell_type": "markdown",
      "metadata": {
        "id": "8OmowmXUkreg"
      },
      "source": [
        "## Using Jupyter notebooks\n",
        "\n",
        "Welcome to coding in Python! This course is designed to introduce you to the basics of coding in Python and then get you to apply your new-found coding skills to carry out some spatial data analytics!\n",
        "This session is written in a Jupyter Notebook. A Jupyter Notebook [\"is an open source web application that you can use to create and share documents that contain live code, equations, visualizations, and text\"](https://realpython.com/jupyter-notebook-introduction/).\n",
        "\n",
        "A Jupyter Notebook is made up of cells. These cells can contain text (known as markdown), code, images and many other formats.\n",
        " E.g.\n",
        "To select a cell click on the text or grey cell containing code and a thin grey line will appear around the cell and a small toolbar will appear on the top right-hand side of the cell. <br>\n",
        "\n",
        "![Select text cell](https://github.com/FrancescaPontin/GEOG5990M/blob/main/screenshots/Select_text_cell_colab.png?raw=1)\n",
        "![Select code cell](https://github.com/FrancescaPontin/GEOG5990M/blob/main/screenshots/Select_code_cell_colab.png?raw=1)\n",
        "\n",
        "\n",
        "Have a look at all the functions on the right-hand toolbar ('Move up', 'Move down', 'Copy link to cell', 'Edit', etc...)\n",
        "\n",
        "\n",
        "To edit a text cell click in it twice, a toolbar will appear at the top of the cell, the left hand-side will show the raw text and right-hand side shows the 'rendered' code.\n",
        "\n",
        "![Edit text cell](https://github.com/FrancescaPontin/GEOG5990M/blob/main/screenshots/Edit_text_cell_colab.png?raw=1)"
      ]
    },
    {
      "cell_type": "markdown",
      "metadata": {
        "id": "wg9iFG5Pkreg"
      },
      "source": [
        "During the teaching session you will read through the Jupyter Notebok, running sections of code yourself to learn key data analysis skills. There will also be places to edit and write your own code within the notebook.\n",
        "\n",
        "*  <b><font color='orchid'>Instructions and tasks for you to complete are in purple</font></b>\n",
        "    \n",
        "*  <b>Where you have to write your own code answers are provided at the end of the section</b>\n",
        "\n",
        "#### How to run a cell of code\n",
        "To run code select the cell you want to run (the blue box will appear arround the selected cell) and then EITHER:\n",
        "\n",
        "1) type CTRL + ENTER on your key board (SHIFT + ENTER or CMD + ENTER for mac)\n",
        "\n",
        "2) click the play button to the left of the cell\n",
        "\n",
        "![Run a cell](https://github.com/FrancescaPontin/GEOG5990M/blob/main/screenshots/Run_cell_colab.png?raw=1)"
      ]
    },
    {
      "cell_type": "markdown",
      "metadata": {
        "id": "QD8mqwIAkreg"
      },
      "source": [
        "### How do I know if I have run the cell?\n",
        "If the cell of code has been run a number will appear in squared brackets by the cell  e.g. <code>In [1]: or In [12]:</code>\n",
        "\n",
        "The numbering refers to the order in which you have run the cells\n",
        "\n",
        "An un-run cell of code has an empty set of squared brackets by the cell I.e. <code>In []:</code>\n",
        "\n",
        "A green tick will appear to the left (if the cell has run correctly):\n",
        "\n",
        "![Cell has run](https://github.com/FrancescaPontin/GEOG5990M/blob/main/screenshots/Cell_has_run.png?raw=1)"
      ]
    },
    {
      "cell_type": "markdown",
      "metadata": {
        "id": "CbXq0w05kreg"
      },
      "source": [
        "### How do I add a new cell?<a id='new_cell'></a>\n",
        "\n",
        "To add a new cell select a cell and hover at the bottom of the cell, select either \"+ Code\" or \"+ Text\". This will add a new code cell or text cell below the selected cell. Do the same at the top of the cell to add a new cell before the selected cell.\n",
        "\n",
        "![Add a cell](https://github.com/FrancescaPontin/GEOG5990M/blob/main/screenshots/Add_a_cell.png?raw=1)\n",
        "\n",
        "To delete a cell use the tool bar on the right-hand side."
      ]
    },
    {
      "cell_type": "markdown",
      "metadata": {
        "id": "HKEBN972kreg"
      },
      "source": [
        "## Hello World"
      ]
    },
    {
      "cell_type": "markdown",
      "metadata": {
        "id": "IQ1UXS9okreg"
      },
      "source": [
        "Following coding tradition the first thing we are going to program is to print the words \"Hello World\".\n",
        "\n",
        "The <code>print() </code> function prints the specified message to your screen\n",
        "\n",
        "The speech marks <code>\" \"</code> arround Hello World let python know you are typing text (also known as a string).\n",
        "\n",
        " <font color='orchid'> <b>Run the code below</b></font>"
      ]
    },
    {
      "cell_type": "code",
      "execution_count": 1,
      "metadata": {
        "id": "24X4G6pjkreg",
        "outputId": "2ac8967a-92ab-42bd-e8af-72053de9bd02",
        "colab": {
          "base_uri": "https://localhost:8080/"
        }
      },
      "outputs": [
        {
          "output_type": "stream",
          "name": "stdout",
          "text": [
            "Hello World\n"
          ]
        }
      ],
      "source": [
        "print(\"Hello World\")"
      ]
    },
    {
      "cell_type": "markdown",
      "metadata": {
        "id": "cqscWDL3kreh"
      },
      "source": [
        "## Basic maths"
      ]
    },
    {
      "cell_type": "markdown",
      "metadata": {
        "id": "iOdU2h2Pkreh"
      },
      "source": [
        "Lets do some basic maths\n",
        "<br><font color='orchid'> <b>Run the code below</b></font>"
      ]
    },
    {
      "cell_type": "code",
      "execution_count": 2,
      "metadata": {
        "id": "kr2radytkreh",
        "outputId": "88eed589-27df-4649-e76e-539b2ba4b39c",
        "colab": {
          "base_uri": "https://localhost:8080/"
        }
      },
      "outputs": [
        {
          "output_type": "execute_result",
          "data": {
            "text/plain": [
              "4"
            ]
          },
          "metadata": {},
          "execution_count": 2
        }
      ],
      "source": [
        "2+2"
      ]
    },
    {
      "cell_type": "markdown",
      "metadata": {
        "id": "tUuMtu0wkreh"
      },
      "source": [
        "If we print 2+2 we get the same thing\n",
        "<br> <font color='orchid'> <b>Run the code below</b></font>"
      ]
    },
    {
      "cell_type": "code",
      "execution_count": 3,
      "metadata": {
        "id": "G6CgGKgakreh",
        "outputId": "d0d59449-1a24-453b-d991-b440ba02b548",
        "colab": {
          "base_uri": "https://localhost:8080/"
        }
      },
      "outputs": [
        {
          "output_type": "stream",
          "name": "stdout",
          "text": [
            "4\n"
          ]
        }
      ],
      "source": [
        "print(2+2)"
      ]
    },
    {
      "cell_type": "markdown",
      "metadata": {
        "id": "mBxMMjtPkreh"
      },
      "source": [
        "If we <code>print(\"2+2\")</code> however we get the characters 2 + 2 as the speach marks tell Python we are typing text and not numerical characters\n",
        "\n",
        "\n",
        "<br> <font color='orchid'> <b>Run the code below</b></font> and see for yourself"
      ]
    },
    {
      "cell_type": "code",
      "execution_count": null,
      "metadata": {
        "scrolled": true,
        "id": "_nVct4N_kreh"
      },
      "outputs": [],
      "source": [
        "print(\"2+2\")"
      ]
    },
    {
      "cell_type": "markdown",
      "metadata": {
        "id": "3SNYCngakreh"
      },
      "source": [
        "### Subtraction, Multiplication and Division\n",
        "The folliwng symbols are used for other basic mathmatical functions\n",
        "- subtraction: <b>-</b>\n",
        "- Multiplication: <b>*</b>\n",
        "- division: <b>/</b>\n",
        "\n",
        "<br> <font color='orchid'> <b> Write some of your own mathmatical lines of code </font>"
      ]
    },
    {
      "cell_type": "code",
      "execution_count": 4,
      "metadata": {
        "id": "bKpQ_vR2kreh",
        "outputId": "db191a54-9867-483e-dd31-c3d6539fda2b",
        "colab": {
          "base_uri": "https://localhost:8080/"
        }
      },
      "outputs": [
        {
          "output_type": "execute_result",
          "data": {
            "text/plain": [
              "81"
            ]
          },
          "metadata": {},
          "execution_count": 4
        }
      ],
      "source": [
        "9*9"
      ]
    },
    {
      "cell_type": "code",
      "execution_count": null,
      "metadata": {
        "id": "41T94hxTkreh"
      },
      "outputs": [],
      "source": []
    },
    {
      "cell_type": "markdown",
      "metadata": {
        "id": "Ewgnf2D7kreh"
      },
      "source": [
        "## Assigning values to variables\n",
        "\n",
        "We can also assign the sum 2+2 to a variable.\n",
        "\n",
        "In this case we have named the variable <font color='blue'>answer</font>. We can now type <font color='blue'>answer</font> instead of 2+2 every time.\n",
        "\n",
        "<br> <font color='orchid'> <b>To assign 2+2 to the variable answer run the code below</b></font>"
      ]
    },
    {
      "cell_type": "code",
      "execution_count": 5,
      "metadata": {
        "id": "DF3dmbIGkreh",
        "outputId": "3bc78efa-53b4-428f-ad1b-5b60e715988f",
        "colab": {
          "base_uri": "https://localhost:8080/"
        }
      },
      "outputs": [
        {
          "output_type": "stream",
          "name": "stdout",
          "text": [
            "4\n"
          ]
        }
      ],
      "source": [
        "answer = 2+2\n",
        "print(answer)"
      ]
    },
    {
      "cell_type": "markdown",
      "metadata": {
        "id": "_LyT4pkwkreh"
      },
      "source": [
        "We can also add our created variable to a new equation\n",
        "<br> <font color='orchid'> <b>To add 5 to the variable answer run the code below</b></font>"
      ]
    },
    {
      "cell_type": "code",
      "execution_count": 6,
      "metadata": {
        "id": "rIWHUUP6kreh",
        "outputId": "aeed0bdc-2bbb-4b9f-f017-37c94876cb18",
        "colab": {
          "base_uri": "https://localhost:8080/"
        }
      },
      "outputs": [
        {
          "output_type": "execute_result",
          "data": {
            "text/plain": [
              "9"
            ]
          },
          "metadata": {},
          "execution_count": 6
        }
      ],
      "source": [
        "# we can also add our created variable to a new equation\n",
        "answer + 5"
      ]
    },
    {
      "cell_type": "markdown",
      "metadata": {
        "id": "uXLLVVLBkreh"
      },
      "source": [
        "NOTE: <code>#</code> When a hashtag is added to a line of code the rest of that line is not treated as code.\n",
        "This can be used to add comments to your code so you know what it is doing (especially useful when you come back to it later on!)"
      ]
    },
    {
      "cell_type": "markdown",
      "metadata": {
        "id": "sHBCOTa7kreh"
      },
      "source": [
        "## Congratualtions you have written your first few lines of code"
      ]
    }
  ],
  "metadata": {
    "kernelspec": {
      "display_name": "Python 3 (ipykernel)",
      "language": "python",
      "name": "python3"
    },
    "language_info": {
      "codemirror_mode": {
        "name": "ipython",
        "version": 3
      },
      "file_extension": ".py",
      "mimetype": "text/x-python",
      "name": "python",
      "nbconvert_exporter": "python",
      "pygments_lexer": "ipython3",
      "version": "3.11.7"
    },
    "toc": {
      "base_numbering": 1,
      "nav_menu": {},
      "number_sections": true,
      "sideBar": true,
      "skip_h1_title": false,
      "title_cell": "Table of Contents",
      "title_sidebar": "Contents",
      "toc_cell": false,
      "toc_position": {
        "height": "calc(100% - 180px)",
        "left": "10px",
        "top": "150px",
        "width": "400.11029052734375px"
      },
      "toc_section_display": true,
      "toc_window_display": true
    },
    "colab": {
      "provenance": []
    }
  },
  "nbformat": 4,
  "nbformat_minor": 0
}